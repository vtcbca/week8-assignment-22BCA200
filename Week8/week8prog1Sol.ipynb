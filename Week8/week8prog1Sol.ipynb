{
 "cells": [
  {
   "cell_type": "markdown",
   "id": "cae8dd26",
   "metadata": {},
   "source": [
    "Program : 1 \n",
    "==================================================================================================\n",
    "Create CSV File for Product Selling for 6 Months and add at-least 5 Records for 5 different products. \n",
    "(Prod_Name, Jan ,Feb, Mar, Apr , May, Jun ) \n",
    "Create Python script to perform following task."
   ]
  },
  {
   "cell_type": "code",
   "execution_count": 1,
   "id": "e64efa15",
   "metadata": {},
   "outputs": [],
   "source": [
    "import csv\n"
   ]
  },
  {
   "cell_type": "code",
   "execution_count": 2,
   "id": "6483b930",
   "metadata": {},
   "outputs": [],
   "source": [
    "data=[[\"iphone\",5500,6000,5800,6100,5300,6300],\n",
    "     [\"samsung\",7000,6500,6800,6100,6300,5800],\n",
    "     [\"oppo\",5900,5500,5400,5100,5500,6000],\n",
    "     [\"vivo\",6200,6500,6800,6400,5900,6600],\n",
    "     [\"redmi\",6000,6200,5900,6300,5700,6100]]"
   ]
  },
  {
   "cell_type": "code",
   "execution_count": 3,
   "id": "f52072db",
   "metadata": {},
   "outputs": [],
   "source": [
    "field=[\"Prod_Name\",\"Jan\",\"Feb\",\"Mar\",\"Apr\",\"May\",\"Jun\"]"
   ]
  },
  {
   "cell_type": "code",
   "execution_count": 4,
   "id": "0f8225d9",
   "metadata": {},
   "outputs": [],
   "source": [
    "with open(\"C:\\\\henil\\\\python\\\\product_selling\",\"w\",newline=\"\") as file:\n",
    "    obj=csv.writer(file)\n",
    "    obj.writerow(field)\n",
    "    obj.writerows(data)"
   ]
  },
  {
   "cell_type": "code",
   "execution_count": 5,
   "id": "d3e118e9",
   "metadata": {},
   "outputs": [],
   "source": [
    "import pandas as pd"
   ]
  },
  {
   "cell_type": "markdown",
   "id": "648bb98f",
   "metadata": {},
   "source": [
    "A. Read data in Dataframe."
   ]
  },
  {
   "cell_type": "code",
   "execution_count": 9,
   "id": "0ff9f105",
   "metadata": {},
   "outputs": [],
   "source": [
    "df=pd.read_csv(\"C:\\\\henil\\\\python\\\\product_selling\")"
   ]
  },
  {
   "cell_type": "code",
   "execution_count": 10,
   "id": "10d484b1",
   "metadata": {},
   "outputs": [
    {
     "data": {
      "text/html": [
       "<div>\n",
       "<style scoped>\n",
       "    .dataframe tbody tr th:only-of-type {\n",
       "        vertical-align: middle;\n",
       "    }\n",
       "\n",
       "    .dataframe tbody tr th {\n",
       "        vertical-align: top;\n",
       "    }\n",
       "\n",
       "    .dataframe thead th {\n",
       "        text-align: right;\n",
       "    }\n",
       "</style>\n",
       "<table border=\"1\" class=\"dataframe\">\n",
       "  <thead>\n",
       "    <tr style=\"text-align: right;\">\n",
       "      <th></th>\n",
       "      <th>Prod_Name</th>\n",
       "      <th>Jan</th>\n",
       "      <th>Feb</th>\n",
       "      <th>Mar</th>\n",
       "      <th>Apr</th>\n",
       "      <th>May</th>\n",
       "      <th>Jun</th>\n",
       "    </tr>\n",
       "  </thead>\n",
       "  <tbody>\n",
       "    <tr>\n",
       "      <th>0</th>\n",
       "      <td>iphone</td>\n",
       "      <td>5500</td>\n",
       "      <td>6000</td>\n",
       "      <td>5800</td>\n",
       "      <td>6100</td>\n",
       "      <td>5300</td>\n",
       "      <td>6300</td>\n",
       "    </tr>\n",
       "    <tr>\n",
       "      <th>1</th>\n",
       "      <td>samsung</td>\n",
       "      <td>7000</td>\n",
       "      <td>6500</td>\n",
       "      <td>6800</td>\n",
       "      <td>6100</td>\n",
       "      <td>6300</td>\n",
       "      <td>5800</td>\n",
       "    </tr>\n",
       "    <tr>\n",
       "      <th>2</th>\n",
       "      <td>oppo</td>\n",
       "      <td>5900</td>\n",
       "      <td>5500</td>\n",
       "      <td>5400</td>\n",
       "      <td>5100</td>\n",
       "      <td>5500</td>\n",
       "      <td>6000</td>\n",
       "    </tr>\n",
       "    <tr>\n",
       "      <th>3</th>\n",
       "      <td>vivo</td>\n",
       "      <td>6200</td>\n",
       "      <td>6500</td>\n",
       "      <td>6800</td>\n",
       "      <td>6400</td>\n",
       "      <td>5900</td>\n",
       "      <td>6600</td>\n",
       "    </tr>\n",
       "    <tr>\n",
       "      <th>4</th>\n",
       "      <td>redmi</td>\n",
       "      <td>6000</td>\n",
       "      <td>6200</td>\n",
       "      <td>5900</td>\n",
       "      <td>6300</td>\n",
       "      <td>5700</td>\n",
       "      <td>6100</td>\n",
       "    </tr>\n",
       "  </tbody>\n",
       "</table>\n",
       "</div>"
      ],
      "text/plain": [
       "  Prod_Name   Jan   Feb   Mar   Apr   May   Jun\n",
       "0    iphone  5500  6000  5800  6100  5300  6300\n",
       "1   samsung  7000  6500  6800  6100  6300  5800\n",
       "2      oppo  5900  5500  5400  5100  5500  6000\n",
       "3      vivo  6200  6500  6800  6400  5900  6600\n",
       "4     redmi  6000  6200  5900  6300  5700  6100"
      ]
     },
     "execution_count": 10,
     "metadata": {},
     "output_type": "execute_result"
    }
   ],
   "source": [
    "df"
   ]
  },
  {
   "cell_type": "markdown",
   "id": "c005a2f1",
   "metadata": {},
   "source": [
    "\n",
    "\n",
    "B. Add columns and calculate total_sell, average_sell. "
   ]
  },
  {
   "cell_type": "code",
   "execution_count": 16,
   "id": "c3e39541",
   "metadata": {},
   "outputs": [],
   "source": [
    "df[\"total_selling\"]=df[[\"Jan\",\"Feb\",\"Mar\",\"Apr\",\"May\",\"Jun\"]].sum(axis=1)"
   ]
  },
  {
   "cell_type": "code",
   "execution_count": 17,
   "id": "81b3504e",
   "metadata": {},
   "outputs": [],
   "source": [
    "df[\"average\"]=df[[\"Jan\",\"Feb\",\"Mar\",\"Apr\",\"May\",\"Jun\"]].mean(axis=1)"
   ]
  },
  {
   "cell_type": "code",
   "execution_count": 23,
   "id": "1921f4ce",
   "metadata": {},
   "outputs": [],
   "source": [
    "import matplotlib.pyplot as plt"
   ]
  },
  {
   "cell_type": "markdown",
   "id": "c80e6094",
   "metadata": {},
   "source": [
    "\n",
    "C. Plot Total sell and average sell together on line chart with proper Legends, titles and lables. "
   ]
  },
  {
   "cell_type": "code",
   "execution_count": 29,
   "id": "cd25f72d",
   "metadata": {},
   "outputs": [
    {
     "data": {
      "text/plain": [
       "<matplotlib.legend.Legend at 0x1d313ec1b50>"
      ]
     },
     "execution_count": 29,
     "metadata": {},
     "output_type": "execute_result"
    },
    {
     "data": {
      "image/png": "[encoded data removed]",
      "text/plain": [
       "<Figure size 640x480 with 1 Axes>"
      ]
     },
     "metadata": {},
     "output_type": "display_data"
    }
   ],
   "source": [
    "plt.plot(df['Prod_Name'], df['total_selling'], label='Total sell');\n",
    "plt.plot(df['Prod_Name'], df['average'], label='Average sell');\n",
    "plt.xlabel('Products')\n",
    "plt.ylabel('Sell Amount')\n",
    "plt.title('Product Selling Analysis Over 6 Months')\n",
    "plt.legend()\n"
   ]
  },
  {
   "cell_type": "code",
   "execution_count": null,
   "id": "ac48ddc6",
   "metadata": {},
   "outputs": [],
   "source": []
  }
 ],
 "metadata": {
  "kernelspec": {
   "display_name": "Python 3 (ipykernel)",
   "language": "python",
   "name": "python3"
  },
  "language_info": {
   "codemirror_mode": {
    "name": "ipython",
    "version": 3
   },
   "file_extension": ".py",
   "mimetype": "text/x-python",
   "name": "python",
   "nbconvert_exporter": "python",
   "pygments_lexer": "ipython3",
   "version": "3.11.2"
  }
 },
 "nbformat": 4,
 "nbformat_minor": 5
}
