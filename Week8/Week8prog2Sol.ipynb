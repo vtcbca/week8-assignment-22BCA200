{
 "cells": [
  {
   "cell_type": "markdown",
   "id": "2f5da15a",
   "metadata": {},
   "source": [
    "Program : 2 \n",
    "==================================================================================================\n",
    "Sales (sid, year, totalsales)\n",
    "\n",
    "Create above table into a SQLite database with appropriate constraints. \n",
    "\n",
    "A. Insert at least 5-10 records into the sales table. \n",
    "B. Export sales table data into sales.csv file.\n",
    "C. Write a python scripts that read the sales.csv file and plot a bar chart that shows totalsales of the year. \n",
    "\n",
    "Also decorate the chart with appropriate title, lables, colours etc."
   ]
  },
  {
   "cell_type": "code",
   "execution_count": 1,
   "id": "ecd0042c",
   "metadata": {},
   "outputs": [],
   "source": [
    "import sqlite3 as sq\n",
    "import pandas as pd\n",
    "import csv\n",
    "import matplotlib.pyplot as plt "
   ]
  },
  {
   "cell_type": "code",
   "execution_count": 3,
   "id": "1812ed8c",
   "metadata": {},
   "outputs": [],
   "source": [
    "conn=sq.connect(\"sales.dbs\")\n",
    "cur=conn.cursor()"
   ]
  },
  {
   "cell_type": "code",
   "execution_count": 10,
   "id": "a95a0d93",
   "metadata": {},
   "outputs": [
    {
     "data": {
      "text/plain": [
       "<sqlite3.Cursor at 0x1caeab977c0>"
      ]
     },
     "execution_count": 10,
     "metadata": {},
     "output_type": "execute_result"
    }
   ],
   "source": [
    "cur.execute(\"create table saless(sid int primary key,year int,totalsales int);\")"
   ]
  },
  {
   "cell_type": "code",
   "execution_count": 5,
   "id": "4a041f2f",
   "metadata": {},
   "outputs": [],
   "source": [
    "q=\"insert into saless values(?,?,?);\""
   ]
  },
  {
   "cell_type": "code",
   "execution_count": 16,
   "id": "b78e03c1",
   "metadata": {},
   "outputs": [
    {
     "name": "stdout",
     "output_type": "stream",
     "text": [
      "Enter sales id:1\n",
      "Enter sales year:2019\n",
      "Enter total sales:2500\n",
      "Enter sales id:2\n",
      "Enter sales year:2020\n",
      "Enter total sales:3200\n",
      "Enter sales id:3\n",
      "Enter sales year:2019\n",
      "Enter total sales:2800\n",
      "Enter sales id:4\n",
      "Enter sales year:2020\n",
      "Enter total sales:3400\n",
      "Enter sales id:5\n",
      "Enter sales year:2019\n",
      "Enter total sales:3900\n"
     ]
    }
   ],
   "source": [
    "l=[]\n",
    "for i in range(5):\n",
    "    sid=int(input(\"Enter sales id:\"))\n",
    "    year=int(input(\"Enter sales year:\"))\n",
    "    totalsales=int(input(\"Enter total sales:\"))\n",
    "    t=(sid,year,totalsales)\n",
    "    l.append(t)"
   ]
  },
  {
   "cell_type": "code",
   "execution_count": 18,
   "id": "8d65b4bc",
   "metadata": {},
   "outputs": [
    {
     "data": {
      "text/plain": [
       "<sqlite3.Cursor at 0x1caeab977c0>"
      ]
     },
     "execution_count": 18,
     "metadata": {},
     "output_type": "execute_result"
    }
   ],
   "source": [
    "cur.executemany(q,l)"
   ]
  },
  {
   "cell_type": "code",
   "execution_count": 19,
   "id": "3972669e",
   "metadata": {},
   "outputs": [
    {
     "data": {
      "text/plain": [
       "<sqlite3.Cursor at 0x1caeab977c0>"
      ]
     },
     "execution_count": 19,
     "metadata": {},
     "output_type": "execute_result"
    }
   ],
   "source": [
    "cur.execute(\"select * from saless\")"
   ]
  },
  {
   "cell_type": "code",
   "execution_count": 20,
   "id": "39016e4d",
   "metadata": {},
   "outputs": [],
   "source": [
    "data=cur.fetchall()"
   ]
  },
  {
   "cell_type": "code",
   "execution_count": 21,
   "id": "9848c332",
   "metadata": {},
   "outputs": [
    {
     "name": "stdout",
     "output_type": "stream",
     "text": [
      "[(1, 2019, 2500), (2, 2020, 3200), (3, 2019, 2800), (4, 2020, 3400), (5, 2019, 3900)]\n"
     ]
    }
   ],
   "source": [
    "print(data)"
   ]
  },
  {
   "cell_type": "code",
   "execution_count": 22,
   "id": "c843ea67",
   "metadata": {},
   "outputs": [],
   "source": [
    "conn.close()"
   ]
  },
  {
   "cell_type": "code",
   "execution_count": 32,
   "id": "b122d195",
   "metadata": {},
   "outputs": [],
   "source": [
    "with open(\"C:\\\\henil\\\\python\\\\sales.csv\",\"w\",newline=\"\") as f:\n",
    "    obj=csv.writer(f)\n",
    "    obj.writerow([\"sid\",\"year\",\"totalsale\"])\n",
    "    obj.writerows(data)"
   ]
  },
  {
   "cell_type": "code",
   "execution_count": 33,
   "id": "961782bb",
   "metadata": {},
   "outputs": [],
   "source": [
    "read=pd.read_csv(\"C:\\\\henil\\\\python\\\\sales.csv\")"
   ]
  },
  {
   "cell_type": "code",
   "execution_count": 34,
   "id": "be16418c",
   "metadata": {},
   "outputs": [
    {
     "data": {
      "text/html": [
       "<div>\n",
       "<style scoped>\n",
       "    .dataframe tbody tr th:only-of-type {\n",
       "        vertical-align: middle;\n",
       "    }\n",
       "\n",
       "    .dataframe tbody tr th {\n",
       "        vertical-align: top;\n",
       "    }\n",
       "\n",
       "    .dataframe thead th {\n",
       "        text-align: right;\n",
       "    }\n",
       "</style>\n",
       "<table border=\"1\" class=\"dataframe\">\n",
       "  <thead>\n",
       "    <tr style=\"text-align: right;\">\n",
       "      <th></th>\n",
       "      <th>sid</th>\n",
       "      <th>year</th>\n",
       "      <th>totalsale</th>\n",
       "    </tr>\n",
       "  </thead>\n",
       "  <tbody>\n",
       "    <tr>\n",
       "      <th>0</th>\n",
       "      <td>1</td>\n",
       "      <td>2019</td>\n",
       "      <td>2500</td>\n",
       "    </tr>\n",
       "    <tr>\n",
       "      <th>1</th>\n",
       "      <td>2</td>\n",
       "      <td>2020</td>\n",
       "      <td>3200</td>\n",
       "    </tr>\n",
       "    <tr>\n",
       "      <th>2</th>\n",
       "      <td>3</td>\n",
       "      <td>2019</td>\n",
       "      <td>2800</td>\n",
       "    </tr>\n",
       "    <tr>\n",
       "      <th>3</th>\n",
       "      <td>4</td>\n",
       "      <td>2020</td>\n",
       "      <td>3400</td>\n",
       "    </tr>\n",
       "    <tr>\n",
       "      <th>4</th>\n",
       "      <td>5</td>\n",
       "      <td>2019</td>\n",
       "      <td>3900</td>\n",
       "    </tr>\n",
       "  </tbody>\n",
       "</table>\n",
       "</div>"
      ],
      "text/plain": [
       "   sid  year  totalsale\n",
       "0    1  2019       2500\n",
       "1    2  2020       3200\n",
       "2    3  2019       2800\n",
       "3    4  2020       3400\n",
       "4    5  2019       3900"
      ]
     },
     "execution_count": 34,
     "metadata": {},
     "output_type": "execute_result"
    }
   ],
   "source": [
    "read"
   ]
  },
  {
   "cell_type": "code",
   "execution_count": 52,
   "id": "573341f2",
   "metadata": {},
   "outputs": [],
   "source": [
    "year=read[\"year\"].tolist()\n",
    "total=read[\"totalsale\"].tolist()"
   ]
  },
  {
   "cell_type": "code",
   "execution_count": 53,
   "id": "71cb1050",
   "metadata": {},
   "outputs": [
    {
     "data": {
      "image/png": "[encoded data removed]",
      "text/plain": [
       "<Figure size 640x480 with 1 Axes>"
      ]
     },
     "metadata": {},
     "output_type": "display_data"
    }
   ],
   "source": [
    "plt.bar(year,total,color=\"yellow\")\n",
    "plt.xlabel(\"Year\")\n",
    "plt.ylabel(\"Total sale\")\n",
    "plt.title(\"Total sale of the Year\")\n",
    "plt.show()\n"
   ]
  },
  {
   "cell_type": "code",
   "execution_count": null,
   "id": "f86b4371",
   "metadata": {},
   "outputs": [],
   "source": []
  }
 ],
 "metadata": {
  "kernelspec": {
   "display_name": "Python 3 (ipykernel)",
   "language": "python",
   "name": "python3"
  },
  "language_info": {
   "codemirror_mode": {
    "name": "ipython",
    "version": 3
   },
   "file_extension": ".py",
   "mimetype": "text/x-python",
   "name": "python",
   "nbconvert_exporter": "python",
   "pygments_lexer": "ipython3",
   "version": "3.11.2"
  }
 },
 "nbformat": 4,
 "nbformat_minor": 5
}
